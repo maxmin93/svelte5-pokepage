{
 "cells": [
  {
   "cell_type": "code",
   "execution_count": 14,
   "metadata": {},
   "outputs": [
    {
     "name": "stdout",
     "output_type": "stream",
     "text": [
      "Hello\n"
     ]
    }
   ],
   "source": [
    "print('Hello')"
   ]
  },
  {
   "cell_type": "code",
   "execution_count": 4,
   "metadata": {},
   "outputs": [
    {
     "name": "stdout",
     "output_type": "stream",
     "text": [
      "Collecting jwt\n",
      "  Downloading jwt-1.3.1-py3-none-any.whl (18 kB)\n",
      "Requirement already satisfied: cryptography!=3.4.0,>=3.1 in /opt/homebrew/Caskroom/miniforge/base/lib/python3.10/site-packages (from jwt) (40.0.1)\n",
      "Requirement already satisfied: cffi>=1.12 in /opt/homebrew/Caskroom/miniforge/base/lib/python3.10/site-packages (from cryptography!=3.4.0,>=3.1->jwt) (1.15.1)\n",
      "Requirement already satisfied: pycparser in /opt/homebrew/Caskroom/miniforge/base/lib/python3.10/site-packages (from cffi>=1.12->cryptography!=3.4.0,>=3.1->jwt) (2.21)\n",
      "Installing collected packages: jwt\n",
      "Successfully installed jwt-1.3.1\n"
     ]
    }
   ],
   "source": [
    "!pip install pyjwt"
   ]
  },
  {
   "cell_type": "code",
   "execution_count": null,
   "metadata": {},
   "outputs": [],
   "source": [
    "import jwt\n",
    "\n",
    "payload_anon = {\n",
    "  \"role\": \"anon\",\n",
    "  \"iss\": \"supabase\",\n",
    "  \"iat\": 1715871600,\n",
    "  \"exp\": 1873638000\n",
    "}\n",
    "\n",
    "payload_service_role = {\n",
    "  \"role\": \"service_role\",\n",
    "  \"iss\": \"supabase\",\n",
    "  \"iat\": 1715871600,\n",
    "  \"exp\": 1873638000\n",
    "}\n",
    "\n",
    "secret = \"4697fb175b643ac46f66d6ec393b48875d54f8468b91769836f04f7d5a84b73f\"\n",
    "\n",
    "encoded_anon = jwt.encode(payload_anon, secret, algorithm=\"HS256\")\n",
    "encoded_sr = jwt.encode(payload_service_role, secret, algorithm=\"HS256\")\n",
    "print(\"Service Key: \", encoded_sr)\n",
    "print(\"Anon Key: \", encoded_anon)"
   ]
  }
 ],
 "metadata": {
  "kernelspec": {
   "display_name": "base",
   "language": "python",
   "name": "python3"
  },
  "language_info": {
   "codemirror_mode": {
    "name": "ipython",
    "version": 3
   },
   "file_extension": ".py",
   "mimetype": "text/x-python",
   "name": "python",
   "nbconvert_exporter": "python",
   "pygments_lexer": "ipython3",
   "version": "3.10.10"
  }
 },
 "nbformat": 4,
 "nbformat_minor": 2
}
